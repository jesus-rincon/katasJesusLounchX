{
 "cells": [
  {
   "cell_type": "markdown",
   "metadata": {},
   "source": [
    "# ejercicio1"
   ]
  },
  {
   "cell_type": "code",
   "execution_count": 2,
   "metadata": {},
   "outputs": [
    {
     "name": "stdout",
     "output_type": "stream",
     "text": [
      "hay 8 planetas\n"
     ]
    }
   ],
   "source": [
    "planetas = ['mercurio', 'venus', 'tierra', 'marte', 'jupiter', 'saturno', 'urano', 'neptuno']\n",
    "print('hay', len(planetas), 'planetas')"
   ]
  },
  {
   "cell_type": "code",
   "execution_count": 4,
   "metadata": {},
   "outputs": [
    {
     "name": "stdout",
     "output_type": "stream",
     "text": [
      "pluton es el ultimo planeta\n"
     ]
    }
   ],
   "source": [
    "planetas.append('pluton')\n",
    "\n",
    "print(planetas[-1], 'es el ultimo planeta')"
   ]
  },
  {
   "cell_type": "markdown",
   "metadata": {},
   "source": [
    "# ejercicio2"
   ]
  },
  {
   "cell_type": "code",
   "execution_count": 8,
   "metadata": {},
   "outputs": [
    {
     "name": "stdout",
     "output_type": "stream",
     "text": [
      "aqui estan los planetas mas sercanos tierra\n",
      "['mercurio', 'venus']\n",
      "aqui estan los planetas mas lejanos tierra\n",
      "['venus']\n"
     ]
    }
   ],
   "source": [
    "planetas = ['mercurio', 'venus', 'tierra', 'marte', 'jupiter', 'saturno', 'urano', 'neptuno']\n",
    "\n",
    "usuario_planetas = input()\n",
    "\n",
    "planetas_listas = planetas.index(usuario_planetas)\n",
    "\n",
    "print('aqui estan los planetas mas sercanos ' + usuario_planetas)\n",
    "print(planetas[0:planetas_listas])\n",
    "\n",
    "print('aqui estan los planetas mas lejanos ' + usuario_planetas)\n",
    "print(planetas[+1:planetas_listas])"
   ]
  }
 ],
 "metadata": {
  "interpreter": {
   "hash": "e501abd4edc71814ab3d53d3ca18fbbbc67b95d457b8aef732671e6449c34c20"
  },
  "kernelspec": {
   "display_name": "Python 3.10.2 64-bit",
   "language": "python",
   "name": "python3"
  },
  "language_info": {
   "codemirror_mode": {
    "name": "ipython",
    "version": 3
   },
   "file_extension": ".py",
   "mimetype": "text/x-python",
   "name": "python",
   "nbconvert_exporter": "python",
   "pygments_lexer": "ipython3",
   "version": "3.10.2"
  },
  "orig_nbformat": 4
 },
 "nbformat": 4,
 "nbformat_minor": 2
}
