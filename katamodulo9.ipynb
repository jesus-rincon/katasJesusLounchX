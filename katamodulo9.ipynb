{
 "cells": [
  {
   "cell_type": "code",
   "execution_count": 6,
   "metadata": {},
   "outputs": [],
   "source": [
    "def generar_reporte(tanke1, tanke2, tankeH):\n",
    "    porcentajeT = (tanke1 + tanke2 + tankeH) / 3\n",
    "    return f\"\"\" reporte llenado:\n",
    "    porcentaje total: {porcentajeT}%\n",
    "    tanke1: {tanke1}%\n",
    "    tanke2: {tanke2}%\n",
    "    tankeH: {tankeH}% \n",
    "    \"\"\"\n",
    "   \n"
   ]
  },
  {
   "cell_type": "code",
   "execution_count": 7,
   "metadata": {},
   "outputs": [
    {
     "name": "stdout",
     "output_type": "stream",
     "text": [
      " reporte llenado:\n",
      "    porcentaje total: 78.33333333333333%\n",
      "    tanke1: 80%\n",
      "    tanke2: 70%\n",
      "    tankeH: 85% \n",
      "    \n"
     ]
    }
   ],
   "source": [
    " print(generar_reporte(80, 70, 85))"
   ]
  },
  {
   "cell_type": "code",
   "execution_count": 8,
   "metadata": {},
   "outputs": [
    {
     "data": {
      "text/plain": [
       "82.0"
      ]
     },
     "execution_count": 8,
     "metadata": {},
     "output_type": "execute_result"
    }
   ],
   "source": [
    "def average(values):\n",
    "    total = sum(values)\n",
    "    N_objetos = len(values)\n",
    "    return total / N_objetos\n",
    "\n",
    "\n",
    "average([80, 85, 81]) "
   ]
  },
  {
   "cell_type": "code",
   "execution_count": 10,
   "metadata": {},
   "outputs": [],
   "source": [
    "def generar_reporte(tanke1, tanke2, tankeH):\n",
    "    return f\"\"\"Fuel Report:\n",
    "    Total Average: {average([tanke1, tanke2, tankeH])}%\n",
    "    Main tank: {tanke1}%\n",
    "    External tank: {tanke2}%\n",
    "    Hydrogen tank: {tankeH}% \n",
    "    \"\"\"\n",
    "    "
   ]
  },
  {
   "cell_type": "code",
   "execution_count": 11,
   "metadata": {},
   "outputs": [
    {
     "name": "stdout",
     "output_type": "stream",
     "text": [
      "Fuel Report:\n",
      "    Total Average: 78.0%\n",
      "    Main tank: 88%\n",
      "    External tank: 76%\n",
      "    Hydrogen tank: 70% \n",
      "    \n"
     ]
    }
   ],
   "source": [
    "print(generar_reporte(88, 76, 70))"
   ]
  }
 ],
 "metadata": {
  "interpreter": {
   "hash": "e501abd4edc71814ab3d53d3ca18fbbbc67b95d457b8aef732671e6449c34c20"
  },
  "kernelspec": {
   "display_name": "Python 3.10.2 64-bit",
   "language": "python",
   "name": "python3"
  },
  "language_info": {
   "codemirror_mode": {
    "name": "ipython",
    "version": 3
   },
   "file_extension": ".py",
   "mimetype": "text/x-python",
   "name": "python",
   "nbconvert_exporter": "python",
   "pygments_lexer": "ipython3",
   "version": "3.10.2"
  },
  "orig_nbformat": 4
 },
 "nbformat": 4,
 "nbformat_minor": 2
}
