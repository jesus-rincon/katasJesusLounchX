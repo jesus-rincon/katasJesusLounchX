{
 "cells": [
  {
   "cell_type": "code",
   "execution_count": 4,
   "metadata": {},
   "outputs": [
    {
     "name": "stdout",
     "output_type": "stream",
     "text": [
      "riesgo elevado de colicion, velocidad muy alta\n"
     ]
    }
   ],
   "source": [
    "asteroide = 49\n",
    "if asteroide > 25:\n",
    "    print('riesgo elevado de colicion, velocidad muy alta')\n",
    "else:\n",
    "    print('no hay riesgo')"
   ]
  },
  {
   "cell_type": "code",
   "execution_count": 6,
   "metadata": {},
   "outputs": [
    {
     "name": "stdout",
     "output_type": "stream",
     "text": [
      "no se mira nada extraño\n"
     ]
    }
   ],
   "source": [
    "asteroide = 19\n",
    "if asteroide > 20:\n",
    "    print(' mira, se mira una luz en el cielo')\n",
    "elif asteroide == 20:\n",
    "    print(' mira, se mira una luz en el cielo')\n",
    "else: \n",
    "    print('no se mira nada extraño')\n"
   ]
  },
  {
   "cell_type": "code",
   "execution_count": 21,
   "metadata": {},
   "outputs": [
    {
     "name": "stdout",
     "output_type": "stream",
     "text": [
      "mira, se mira una luz en el cielo\n"
     ]
    }
   ],
   "source": [
    "Vasteroide = 25\n",
    "Tasteroide = 40\n",
    "if Vasteroide > 25 and Tasteroide > 25:\n",
    "    print ('alerta!, alto peligro de impacto')\n",
    "elif Vasteroide >= 20:\n",
    "    print('mira, se mira una luz en el cielo')\n",
    "elif Tasteroide < 25:\n",
    "    print(' no se mira nada ')\n",
    "else: \n",
    "    print(' no se mira nada ')"
   ]
  }
 ],
 "metadata": {
  "interpreter": {
   "hash": "e501abd4edc71814ab3d53d3ca18fbbbc67b95d457b8aef732671e6449c34c20"
  },
  "kernelspec": {
   "display_name": "Python 3.10.2 64-bit",
   "language": "python",
   "name": "python3"
  },
  "language_info": {
   "codemirror_mode": {
    "name": "ipython",
    "version": 3
   },
   "file_extension": ".py",
   "mimetype": "text/x-python",
   "name": "python",
   "nbconvert_exporter": "python",
   "pygments_lexer": "ipython3",
   "version": "3.10.2"
  },
  "orig_nbformat": 4
 },
 "nbformat": 4,
 "nbformat_minor": 2
}
