{
 "cells": [
  {
   "cell_type": "code",
   "execution_count": 16,
   "metadata": {},
   "outputs": [
    {
     "name": "stdout",
     "output_type": "stream",
     "text": [
      "Mars tiene 2 lunas\n",
      "Mars tiene la cirumferencia polar 6752\n"
     ]
    }
   ],
   "source": [
    "planeta = { 'nombre': 'Mars', 'lunas': 2\n",
    "}\n",
    "\n",
    "print(f'{planeta[\"nombre\"]} tiene {planeta[\"lunas\"]} lunas')\n",
    "\n",
    "planeta['circumferencia (km)'] = {'polar': 6752, 'equatorial': 6792\n",
    "}\n",
    "print(f'{planeta[\"nombre\"]} tiene la cirumferencia polar {planeta[\"circumferencia (km)\"][\"polar\"]}')"
   ]
  },
  {
   "cell_type": "code",
   "execution_count": 3,
   "metadata": {},
   "outputs": [
    {
     "name": "stdout",
     "output_type": "stream",
     "text": [
      "{'Mercurio': 5, 'Venus': 4, 'Tierra': 8, 'Marte': 9, 'Jupiter': 65, 'Saturno': 12, 'Urano': 57, 'Neptuno': 19, 'Pluton': 100, 'Haumea': 27, 'Eris': 85}\n",
      "5\n",
      "9\n",
      "17\n",
      "26\n",
      "91\n",
      "103\n",
      "160\n",
      "179\n",
      "279\n",
      "306\n",
      "391\n",
      "391/11= 35.54545454545455\n"
     ]
    }
   ],
   "source": [
    "Lunas_planetas = {\n",
    "    \"Mercurio\" : 5,\n",
    "    \"Venus\"    : 4,\n",
    "    \"Tierra\"   : 8,\n",
    "    \"Marte\"    : 9,\n",
    "    \"Jupiter\"  : 65,\n",
    "    \"Saturno\"  : 12,\n",
    "    \"Urano\"    : 57,\n",
    "    \"Neptuno\"  : 19,\n",
    "    \"Pluton\"   : 100,\n",
    "    \"Haumea\"   : 27,\n",
    "    \"Eris\"     : 85,\n",
    "}\n",
    "\n",
    "print (Lunas_planetas)\n",
    "\n",
    "luna = Lunas_planetas.values()\n",
    "\n",
    "planets = len(Lunas_planetas.keys())\n",
    "\n",
    "lunas_total = 0\n",
    "for moon in luna:\n",
    "    lunas_total = lunas_total + moon\n",
    "\n",
    "    print (lunas_total)\n",
    "\n",
    "average = lunas_total/planets\n",
    "print (\"391/11=\", average\n",
    ")"
   ]
  }
 ],
 "metadata": {
  "interpreter": {
   "hash": "e501abd4edc71814ab3d53d3ca18fbbbc67b95d457b8aef732671e6449c34c20"
  },
  "kernelspec": {
   "display_name": "Python 3.10.2 64-bit",
   "language": "python",
   "name": "python3"
  },
  "language_info": {
   "codemirror_mode": {
    "name": "ipython",
    "version": 3
   },
   "file_extension": ".py",
   "mimetype": "text/x-python",
   "name": "python",
   "nbconvert_exporter": "python",
   "pygments_lexer": "ipython3",
   "version": "3.10.2"
  },
  "orig_nbformat": 4
 },
 "nbformat": 4,
 "nbformat_minor": 2
}
